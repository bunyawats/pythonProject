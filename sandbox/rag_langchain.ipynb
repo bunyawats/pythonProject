{
 "cells": [
  {
   "cell_type": "code",
   "id": "initial_id",
   "metadata": {
    "collapsed": true,
    "ExecuteTime": {
     "end_time": "2024-11-11T03:40:58.592500Z",
     "start_time": "2024-11-11T03:40:58.580715Z"
    }
   },
   "source": [
    "from langchain import hub\n",
    "from dotenv import load_dotenv\n",
    "import os\n",
    "\n",
    "pathDir = os.path.join(os.getcwd(), \".env\")\n",
    "print(pathDir)\n",
    "load_dotenv(pathDir)\n",
    "my_variable = os.getenv(\"LANGCHAIN_API_KEY\")\n",
    "print(my_variable)\n"
   ],
   "outputs": [
    {
     "name": "stdout",
     "output_type": "stream",
     "text": [
      "/Users/bunyawatsingchai/PycharmProjects/pythonProject/sandbox/.env\n",
      "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\n"
     ]
    }
   ],
   "execution_count": 4
  },
  {
   "metadata": {
    "ExecuteTime": {
     "end_time": "2024-11-11T03:41:25.234961Z",
     "start_time": "2024-11-11T03:41:24.425902Z"
    }
   },
   "cell_type": "code",
   "source": [
    "\n",
    "my_variable = os.getenv('LANGCHAIN_API_KEY')\n",
    "print(my_variable)\n",
    "\n",
    "prompt = hub.pull(\"rlm/rag-prompt\")\n",
    "print(prompt)"
   ],
   "id": "8e61d898a2e55cbc",
   "outputs": [
    {
     "name": "stdout",
     "output_type": "stream",
     "text": [
      "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\n",
      "input_variables=['context', 'question'] input_types={} partial_variables={} metadata={'lc_hub_owner': 'rlm', 'lc_hub_repo': 'rag-prompt', 'lc_hub_commit_hash': '50442af133e61576e74536c6556cefe1fac147cad032f4377b60c436e6cdcb6e'} messages=[HumanMessagePromptTemplate(prompt=PromptTemplate(input_variables=['context', 'question'], input_types={}, partial_variables={}, template=\"You are an assistant for question-answering tasks. Use the following pieces of retrieved context to answer the question. If you don't know the answer, just say that you don't know. Use three sentences maximum and keep the answer concise.\\nQuestion: {question} \\nContext: {context} \\nAnswer:\"), additional_kwargs={})]\n"
     ]
    }
   ],
   "execution_count": 6
  },
  {
   "metadata": {},
   "cell_type": "code",
   "source": "",
   "id": "e1f809f4a6d91ebf",
   "outputs": [],
   "execution_count": null
  }
 ],
 "metadata": {
  "kernelspec": {
   "display_name": "Python 3",
   "language": "python",
   "name": "python3"
  },
  "language_info": {
   "codemirror_mode": {
    "name": "ipython",
    "version": 2
   },
   "file_extension": ".py",
   "mimetype": "text/x-python",
   "name": "python",
   "nbconvert_exporter": "python",
   "pygments_lexer": "ipython2",
   "version": "2.7.6"
  }
 },
 "nbformat": 4,
 "nbformat_minor": 5
}
